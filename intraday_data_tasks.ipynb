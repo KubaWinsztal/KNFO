{
 "cells": [
  {
   "cell_type": "markdown",
   "id": "90170eb2",
   "metadata": {},
   "source": [
    "# Stock intraday data\n",
    "\n",
    "Main task is to get aggregated 1-minute OHLCV (Open-High-Low-Close-Volume data)"
   ]
  },
  {
   "cell_type": "markdown",
   "id": "2824e0b4",
   "metadata": {},
   "source": [
    "Hint:\n",
    "* yahoo finance (python lib yfinance) offers limited history of intraday data\n",
    "\n",
    "* alphavantage offers access based on API and free access based on api key, but limited to 25 requests per day. No package, but simple function based on requests should solve this issue\n"
   ]
  },
  {
   "cell_type": "markdown",
   "id": "33aa639a",
   "metadata": {},
   "source": [
    "1. Get data as pandas dataframe. If yfinance whole available history. If alphavantage 3 months history\n",
    "2. Analyze data structure (data type) and transform if needed (e.g. int stored as string should be transformed to int)\n",
    "3. Check if any NA/0 and other inconsistencies \n",
    "4. save raw data to feather format\n",
    "5. Identify outliers (hint: based on aggregated daily levels. It can ba done based on IQR)\n",
    "6. Filter outliers out and save clean data to feather format\n",
    "7. (Optional) modify notebook to be used with papermill and run for 3 different tickers"
   ]
  },
  {
   "cell_type": "markdown",
   "id": "9917b7ff",
   "metadata": {},
   "source": []
  },
  {
   "cell_type": "markdown",
   "id": "c701beed",
   "metadata": {},
   "source": []
  }
 ],
 "metadata": {
  "language_info": {
   "name": "python"
  }
 },
 "nbformat": 4,
 "nbformat_minor": 5
}

from typing import Sequence, Dict

def most_prudent_upper_bounds(
    freqs: Sequence[int],
    gamma: float = 0.90,
    grades: Sequence[str] = (
        "1", "2+", "2", "2-",
        "3+", "3", "3-",
        "4+", "4", "4-",
        "5+", "5", "5-",
        "6+", "6", "6-",
        "7+", "7", "7-",
    ),
) -> Dict[str, float]:
    """
    Upper-confidence bounds for PDs under the ‘most prudent’ principle
    (Pluto–Tasche, 2005, Section 2).

    Parameters
    ----------
    freqs   : obligor counts per grade (best → worst)
    gamma   : confidence level, e.g. 0.90 for 90 %
    grades  : labels matching *freqs*

    Returns
    -------
    {grade: upper-bound PD as a decimal}
    """
    if not (0 < gamma < 1):
        raise ValueError("gamma must be between 0 and 1.")
    if len(freqs) != len(grades):
        raise ValueError("freqs and grades must have the same length.")

    # cumulative counts from worst grade upward
    cum_from_worst = [0] * len(freqs)
    running = 0
    for idx in reversed(range(len(freqs))):
        running += freqs[idx]
        cum_from_worst[idx] = running

    ub = {}
    for n_grade, n_tail, grade in zip(freqs, cum_from_worst, grades):
        # user rule: if this grade has no observations
        if n_grade == 0:
            ub[grade] = 1.0
            continue

        # Section 2 formula:  p ≤ 1 − (1 − γ)^(1/N_tail)
        p_max = 1.0 - (1.0 - gamma) ** (1.0 / n_tail)
        ub[grade] = p_max

    return ub


# ─── Example ──────────────────────────────────────────────────────────────────
if __name__ == "__main__":
    freqs = [50, 60, 120, 70, 150, 180, 160,
             200, 190, 180, 210, 230, 220,
             80, 70, 30, 0, 0, 0]          # 19 grades
    pd_bounds = most_prudent_upper_bounds(freqs, gamma=0.95)
    for g, p in pd_bounds.items():
        print(f"{g:>3}: {p:.4%}")
{
 "cells": [
  {
   "cell_type": "markdown",
   "id": "a48761d0",
   "metadata": {},
   "source": [
    "# Intraday volume prediction"
   ]
  },
  {
   "cell_type": "markdown",
   "id": "21a87ebe",
   "metadata": {
    "vscode": {
     "languageId": "plaintext"
    }
   },
   "source": [
    "1. Using models for volume curve and daily volume prediction create a function that will return intraday volume\n",
    "2. Assess performance of the proposed model"
   ]
  },
  {
   "cell_type": "markdown",
   "id": "70ed5c90",
   "metadata": {},
   "source": []
  }
 ],
 "metadata": {
  "language_info": {
   "name": "python"
  }
 },
 "nbformat": 4,
 "nbformat_minor": 5
}

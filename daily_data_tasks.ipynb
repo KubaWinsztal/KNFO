{
 "cells": [
  {
   "cell_type": "markdown",
   "id": "c5a624aa",
   "metadata": {},
   "source": [
    "# Stock daily data\n",
    "\n",
    "Main task is to get aggregated daily OHLCV (Open-High-Low-Close-Volume data)"
   ]
  },
  {
   "cell_type": "markdown",
   "id": "60c11f5a",
   "metadata": {},
   "source": [
    "Hint:\n",
    "* Stooq offers access to good quality historical. No package, but simple function based on requests should solve this issue\n",
    "* yahoo finance (python lib yfinance) offers long history of daily data\n",
    "\n",
    "\n"
   ]
  },
  {
   "cell_type": "markdown",
   "id": "7006994a",
   "metadata": {},
   "source": [
    "1. Get data as pandas dataframe. 2 years history\n",
    "2. Analyze data structure (data type) and transform if needed (e.g. int stored as string should be transformed to int)\n",
    "3. Check if any NA/0 and other inconsistencies \n",
    "4. save raw data to feather format\n",
    "5. Identify outliers (hint:  It can ba done based on IQR)\n",
    "6. Filter outliers out and save clean data to feather format\n",
    "7. (Optional) modify notebook to be used with papermill and run for 3 different tickers"
   ]
  }
 ],
 "metadata": {
  "language_info": {
   "name": "python"
  }
 },
 "nbformat": 4,
 "nbformat_minor": 5
}

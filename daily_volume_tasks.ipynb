{
 "cells": [
  {
   "cell_type": "markdown",
   "id": "7fcaaf74",
   "metadata": {},
   "source": [
    "#  Daily volume curve prediction"
   ]
  },
  {
   "cell_type": "markdown",
   "id": "9bf8a32b",
   "metadata": {},
   "source": [
    "**Model specification**\n",
    "\n",
    "1. propose 2 models: based on historical average (e.g. 20 days moving average) and timeseries model class (AR/ARMA/ARIMA)\n",
    "2. Visualize results over time specifying recalibration frequency and period\n",
    "3. Compare those two models with selected metric (R^2, MAE etc.)\n",
    "4. Prepare prediction function which return expected volume\n"
   ]
  }
 ],
 "metadata": {
  "language_info": {
   "name": "python"
  }
 },
 "nbformat": 4,
 "nbformat_minor": 5
}

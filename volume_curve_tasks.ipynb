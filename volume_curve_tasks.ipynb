{
 "cells": [
  {
   "cell_type": "markdown",
   "id": "03bb51f5",
   "metadata": {},
   "source": [
    "# Volume curve calibration"
   ]
  },
  {
   "cell_type": "markdown",
   "id": "1622d071",
   "metadata": {},
   "source": [
    "**Pattern identification**\n",
    "\n",
    "1. read ohlcv intraday data\n",
    "2. add column with minutes from begginig of session to remove impact of timezone\n",
    "3. Visualize on 2 separate plots 1 minute data and aggrageted to 15minutes data. On x axis should be time from begginin of session, on y axis volume. It can be done also in 3d plot (e.g. plotly) with additional date dimension\n",
    "4. transform data to frame where columns are time from the beginning of session and rows are days\n",
    "5. normalize data share of daily volume\n",
    "6. Visualize it with boxplot\n",
    "7. Use average as proposed model and create function which based on given volume will return expected volume\n",
    "\n",
    "**Backtesting**\n",
    "\n",
    "1. Propose metric to assess quality of prediction\n",
    "2. propose scenario for  recalibration frequency and period (example 20 days history used for calibration, recalibration performed weekly) and assess the performance of the model over time with the metric from point 1\n",
    "3. assess impact of removing outliers from the training set. Is that improved model performance?\n",
    "\n",
    "\n"
   ]
  },
  {
   "cell_type": "markdown",
   "id": "a2cf9a5d",
   "metadata": {},
   "source": []
  }
 ],
 "metadata": {
  "language_info": {
   "name": "python"
  }
 },
 "nbformat": 4,
 "nbformat_minor": 5
}
